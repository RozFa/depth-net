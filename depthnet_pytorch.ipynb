{
 "cells": [
  {
   "cell_type": "code",
   "execution_count": 1,
   "metadata": {},
   "outputs": [],
   "source": [
    "from torch.utils.data import Dataset\n",
    "from torch import nn\n",
    "from convlstm import ConvLSTM\n",
    "import numpy as np\n",
    "import os"
   ]
  },
  {
   "cell_type": "markdown",
   "metadata": {},
   "source": [
    "Preparing the dataset and loader"
   ]
  },
  {
   "cell_type": "code",
   "execution_count": 2,
   "metadata": {},
   "outputs": [],
   "source": [
    "\n",
    "\n",
    "\n",
    "class depthdataset(Dataset):\n",
    "\n",
    "    def __init__(self, image_dir, gtruth_dir, transform= None):\n",
    "        self.image_dir = image_dir\n",
    "        self.gtruth_dir = gtruth_dir\n",
    "        self.transform = transform\n",
    "        self.images = os.listdir(image_dir)\n",
    "\n",
    "    def __len__(self):\n",
    "        return len(self.image)\n",
    "\n",
    "    def __getitem__(self,index):\n",
    "\n",
    "        img_path = os.path.join(self.image_dir,self.image[index])\n",
    "        gt_path = os.path.join(self.gtruth_dir,self.image[index])\n",
    "    "
   ]
  },
  {
   "cell_type": "markdown",
   "metadata": {},
   "source": [
    "Model"
   ]
  },
  {
   "cell_type": "code",
   "execution_count": null,
   "metadata": {},
   "outputs": [],
   "source": [
    "#image_dir = \"/dataset/depth_selection/val_selection_cropped/image\"\n",
    "#gtruth_dir = \"/dataset/depth_selection/val_selection_cropped/groundtruth_depth\""
   ]
  },
  {
   "cell_type": "code",
   "execution_count": 2,
   "metadata": {},
   "outputs": [
    {
     "ename": "NameError",
     "evalue": "name 'channels' is not defined",
     "output_type": "error",
     "traceback": [
      "\u001b[0;31m---------------------------------------------------------------------------\u001b[0m",
      "\u001b[0;31mNameError\u001b[0m                                 Traceback (most recent call last)",
      "\u001b[1;32m/home/roz/workspace/depth net/Untitled-2.ipynb Cell 6\u001b[0m in \u001b[0;36m<cell line: 3>\u001b[0;34m()\u001b[0m\n\u001b[1;32m      <a href='vscode-notebook-cell:/home/roz/workspace/depth%20net/Untitled-2.ipynb#ch0000005?line=0'>1</a>\u001b[0m \u001b[39mfrom\u001b[39;00m \u001b[39mconvlstm\u001b[39;00m \u001b[39mimport\u001b[39;00m ConvLSTM\n\u001b[0;32m----> <a href='vscode-notebook-cell:/home/roz/workspace/depth%20net/Untitled-2.ipynb#ch0000005?line=2'>3</a>\u001b[0m model \u001b[39m=\u001b[39m ConvLSTM(input_dim\u001b[39m=\u001b[39mchannels,\n\u001b[1;32m      <a href='vscode-notebook-cell:/home/roz/workspace/depth%20net/Untitled-2.ipynb#ch0000005?line=3'>4</a>\u001b[0m                  hidden_dim\u001b[39m=\u001b[39m[\u001b[39m64\u001b[39m, \u001b[39m64\u001b[39m, \u001b[39m128\u001b[39m],\n\u001b[1;32m      <a href='vscode-notebook-cell:/home/roz/workspace/depth%20net/Untitled-2.ipynb#ch0000005?line=4'>5</a>\u001b[0m                  kernel_size\u001b[39m=\u001b[39m(\u001b[39m3\u001b[39m, \u001b[39m3\u001b[39m),\n\u001b[1;32m      <a href='vscode-notebook-cell:/home/roz/workspace/depth%20net/Untitled-2.ipynb#ch0000005?line=5'>6</a>\u001b[0m                  num_layers\u001b[39m=\u001b[39m\u001b[39m3\u001b[39m,\n\u001b[1;32m      <a href='vscode-notebook-cell:/home/roz/workspace/depth%20net/Untitled-2.ipynb#ch0000005?line=6'>7</a>\u001b[0m                  batch_first\u001b[39m=\u001b[39m\u001b[39mTrue\u001b[39;00m,\n\u001b[1;32m      <a href='vscode-notebook-cell:/home/roz/workspace/depth%20net/Untitled-2.ipynb#ch0000005?line=7'>8</a>\u001b[0m                  bias\u001b[39m=\u001b[39m\u001b[39mTrue\u001b[39;00m,\n\u001b[1;32m      <a href='vscode-notebook-cell:/home/roz/workspace/depth%20net/Untitled-2.ipynb#ch0000005?line=8'>9</a>\u001b[0m                  return_all_layers\u001b[39m=\u001b[39m\u001b[39mFalse\u001b[39;00m)\n",
      "\u001b[0;31mNameError\u001b[0m: name 'channels' is not defined"
     ]
    }
   ],
   "source": [
    "\n",
    "\n",
    "model = ConvLSTM(input_dim=channels,\n",
    "                 hidden_dim=[64, 64, 128],\n",
    "                 kernel_size=(3, 3),\n",
    "                 num_layers=3,\n",
    "                 batch_first=True,\n",
    "                 bias=True,\n",
    "                 return_all_layers=False)"
   ]
  }
 ],
 "metadata": {
  "kernelspec": {
   "display_name": "Python 3.10.4 ('NN')",
   "language": "python",
   "name": "python3"
  },
  "language_info": {
   "codemirror_mode": {
    "name": "ipython",
    "version": 3
   },
   "file_extension": ".py",
   "mimetype": "text/x-python",
   "name": "python",
   "nbconvert_exporter": "python",
   "pygments_lexer": "ipython3",
   "version": "3.10.4"
  },
  "orig_nbformat": 4,
  "vscode": {
   "interpreter": {
    "hash": "626344daed0c42ae3048c35ad473a8619c79350fee44a24f4afbbc60690f3c8b"
   }
  }
 },
 "nbformat": 4,
 "nbformat_minor": 2
}
