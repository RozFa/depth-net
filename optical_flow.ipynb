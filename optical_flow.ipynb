{
 "cells": [
  {
   "cell_type": "code",
   "execution_count": 1,
   "metadata": {},
   "outputs": [],
   "source": [
    "import numpy as np\n",
    "import os\n",
    "import cv2 as cv"
   ]
  },
  {
   "cell_type": "code",
   "execution_count": 3,
   "metadata": {},
   "outputs": [],
   "source": [
    "import glob\n",
    "import cv2 as cv\n",
    "\n",
    "\n",
    "def getfiles(path):\n",
    "    print('searching', path)\n",
    "    files = sorted(glob.glob(path+'/*.png'))\n",
    "\n",
    "    if not files:\n",
    "        raise FileNotFoundError(f'no files found under {path}')\n",
    "\n",
    "    return files\n",
    "\n",
    "\n",
    "def visualize_image_on_colab(image_path):\n",
    "    from google.colab.patches import cv2_imshow\n",
    "\n",
    "    files = getfiles(image_path)\n",
    "\n",
    "    if not files:\n",
    "        raise FileNotFoundError(f'No files found under {image_path}')\n",
    "    \n",
    "    for fn in files:\n",
    "        image = cv.imread(fn)\n",
    "        cv2_imshow(image) # Note cv2_imshow, not cv2.imshow\n",
    "\n",
    "\n",
    "def visualize_video_on_colab(video_path):\n",
    "    from google.colab.patches import cv2_imshow\n",
    "\n",
    "    cap = cv.VideoCapture(video_path)\n",
    "    while cap.isOpened():\n",
    "        ret, image = cap.read()\n",
    "\n",
    "        if not ret:\n",
    "            break\n",
    "\n",
    "        cv2_imshow(image) # Note cv2_imshow, not cv2.imshow\n",
    "        \n",
    "        cv.waitKey(1) & 0xff\n",
    "\n",
    "    cv.destroyAllWindows()\n",
    "    cap.release()"
   ]
  },
  {
   "cell_type": "code",
   "execution_count": 6,
   "metadata": {},
   "outputs": [
    {
     "name": "stdout",
     "output_type": "stream",
     "text": [
      "Number of samples: 900\n"
     ]
    }
   ],
   "source": [
    "input_dir = \"/home/roz/workspace/depth net/dataset/depth_selection/val_selection_cropped/image\"\n",
    "input_img_paths = sorted(\n",
    "    [\n",
    "        os.path.join(input_dir, fname)\n",
    "        for fname in os.listdir(input_dir)\n",
    "        if fname.endswith(\".png\")\n",
    "    ]\n",
    ")\n",
    "print(\"Number of samples:\", len(input_img_paths))"
   ]
  },
  {
   "cell_type": "code",
   "execution_count": 11,
   "metadata": {},
   "outputs": [],
   "source": [
    "def fb_from_image(path):\n",
    "    flist = getfiles(path)\n",
    "    os.makedirs('./fb_results/')\n",
    "\n",
    "    for i in range(len(flist) - 1):\n",
    "        im1 = cv.imread(flist[i])\n",
    "        im2 = cv.imread(flist[i+1])\n",
    "        gray1 = cv.cvtColor(im1, cv.COLOR_BGR2GRAY)\n",
    "        gray2 = cv.cvtColor(im2, cv.COLOR_BGR2GRAY)\n",
    "\n",
    "        hsv = np.zeros_like(im1)\n",
    "        # Sets image saturation to maximum\n",
    "        hsv[..., 1] = 255\n",
    "        # Calculates dense optical flow by Farneback method\n",
    "        # https://docs.opencv.org/3.0-beta/modules/video/doc/motion_analysis_and_object_tracking.html#calcopticalflowfarneback\n",
    "        flow = cv.calcOpticalFlowFarneback(gray1, gray2, None, 0.5, 3, 15, 3, 5, 1.2, 0)\n",
    "        # Computes the magnitude and angle of the 2D vectors\n",
    "        magnitude, angle = cv.cartToPolar(flow[..., 0], flow[..., 1])\n",
    "        # Sets image hue according to the optical flow direction\n",
    "        hsv[..., 0] = angle * 180 / np.pi / 2\n",
    "        # Sets image value according to the optical flow magnitude (normalized)\n",
    "        hsv[..., 2] = cv.normalize(magnitude, None, 0, 255, cv.NORM_MINMAX)\n",
    "        # Converts HSV to RGB (BGR) color representation\n",
    "        bgr = cv.cvtColor(hsv, cv.COLOR_HSV2BGR)\n",
    "\n",
    "        cv.imwrite(f'./fb_results/optical_fb_{i+1}.png',bgr)"
   ]
  },
  {
   "cell_type": "code",
   "execution_count": 13,
   "metadata": {},
   "outputs": [
    {
     "name": "stdout",
     "output_type": "stream",
     "text": [
      "searching /home/roz/workspace/depth net/dataset/depth_selection/val_selection_cropped/image\n"
     ]
    }
   ],
   "source": [
    "fb_from_image(\"/home/roz/workspace/depth net/dataset/depth_selection/val_selection_cropped/image\")"
   ]
  },
  {
   "cell_type": "code",
   "execution_count": 18,
   "metadata": {},
   "outputs": [
    {
     "data": {
      "text/plain": [
       "True"
      ]
     },
     "execution_count": 18,
     "metadata": {},
     "output_type": "execute_result"
    }
   ],
   "source": [
    "imm1 = cv.imread(\"/home/roz/workspace/depth net/dataset/depth_selection/val_selection_cropped/image/2011_09_26_drive_0002_sync_image_0000000005_image_02.png\")\n",
    "imm2 = cv.imread(\"/home/roz/workspace/depth net/dataset/depth_selection/val_selection_cropped/image/2011_10_03_drive_0047_sync_image_0000000488_image_03.png\")\n",
    "grayy1 = cv.cvtColor(imm1, cv.COLOR_BGR2GRAY)\n",
    "grayy2 = cv.cvtColor(imm2, cv.COLOR_BGR2GRAY)\n",
    "hsv = np.zeros_like(imm1)\n",
    "        # Sets image saturation to maximum\n",
    "hsv[..., 1] = 255\n",
    "        # Calculates dense optical flow by Farneback method\n",
    "        # https://docs.opencv.org/3.0-beta/modules/video/doc/motion_analysis_and_object_tracking.html#calcopticalflowfarneback\n",
    "flow = cv.calcOpticalFlowFarneback(grayy1, grayy2, None, 0.5, 3, 15, 3, 5, 1.2, 0)\n",
    "        # Computes the magnitude and angle of the 2D vectors\n",
    "magnitude, angle = cv.cartToPolar(flow[..., 0], flow[..., 1])\n",
    "        # Sets image hue according to the optical flow direction\n",
    "hsv[..., 0] = angle * 180 / np.pi / 2\n",
    "        # Sets image value according to the optical flow magnitude (normalized)\n",
    "hsv[..., 2] = cv.normalize(magnitude, None, 0, 255, cv.NORM_MINMAX)\n",
    "        # Converts HSV to RGB (BGR) color representation\n",
    "bgr = cv.cvtColor(hsv, cv.COLOR_HSV2BGR)\n",
    "cv.imwrite(f'./fb_results/optical_fb_900.png',bgr)"
   ]
  }
 ],
 "metadata": {
  "kernelspec": {
   "display_name": "Python 3.7.13 ('keras')",
   "language": "python",
   "name": "python3"
  },
  "language_info": {
   "codemirror_mode": {
    "name": "ipython",
    "version": 3
   },
   "file_extension": ".py",
   "mimetype": "text/x-python",
   "name": "python",
   "nbconvert_exporter": "python",
   "pygments_lexer": "ipython3",
   "version": "3.7.13"
  },
  "orig_nbformat": 4,
  "vscode": {
   "interpreter": {
    "hash": "6729eb2bfaa61a5e9b3a3d654c3f96a07f3051cfaf59581958dcb426c699e317"
   }
  }
 },
 "nbformat": 4,
 "nbformat_minor": 2
}
