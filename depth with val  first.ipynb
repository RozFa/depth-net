first shape: (None, None, 64, 64, 32)
second shape: (None, None, 32, 32, 64)
third shape: (None, None, 32, 32, 64)
4ht shape: (None, None, 16, 16, 128)
5th shape: (None, None, 16, 16, 128)
6th shape: (None, None, 8, 8, 256)
7th shape: (None, None, 8, 8, 256)
8th shape: (None, None, 4, 4, 512)
dec1 shape: (None, 4, 4, 512)
cnvlstm8 shape: (None, 4, 4, 512)
conv1 shape: (None, 4, 4, 512)
dec2 shape: (None, 8, 8, 256)
conv2 shape: (None, 8, 8, 256)
dec3 shape: (None, 16, 16, 128)
conv3: (None, 16, 16, 128)
dec4: (None, 32, 32, 64)
conc4: (None, 32, 32, 128)
conv4: (None, 32, 32, 64)
dec5: (None, 64, 64, 32)
conc5: (None, 64, 64, 64)
conv5: (None, 64, 64, 32)
dep: (5, 19, 64, 64, 1)
Model: "model"
__________________________________________________________________________________________________
 Layer (type)                   Output Shape         Param #     Connected to                     
==================================================================================================
 input_1 (InputLayer)           [(None, None, 64, 6  0           []                               
                                4, 1)]                                                            
                                                                                                  
 conv_lstm2d (ConvLSTM2D)       (None, None, 64, 64  207104      ['input_1[0][0]']                
                                , 32)                                                             
                                                                                                  
 conv_lstm2d_1 (ConvLSTM2D)     (None, None, 32, 32  614656      ['conv_lstm2d[0][0]']            
                                , 64)                                                             
                                                                                                  
 conv_lstm2d_2 (ConvLSTM2D)     (None, None, 32, 32  819456      ['conv_lstm2d_1[0][0]']          
                                , 64)                                                             
                                                                                                  
 conv_lstm2d_3 (ConvLSTM2D)     (None, None, 16, 16  885248      ['conv_lstm2d_2[0][0]']          
                                , 128)                                                            
                                                                                                  
 conv_lstm2d_4 (ConvLSTM2D)     (None, None, 16, 16  1180160     ['conv_lstm2d_3[0][0]']          
                                , 128)                                                            
                                                                                                  
 conv_lstm2d_5 (ConvLSTM2D)     (None, None, 8, 8,   3539968     ['conv_lstm2d_4[0][0]']          
                                256)                                                              
                                                                                                  
 conv_lstm2d_6 (ConvLSTM2D)     (None, None, 8, 8,   4719616     ['conv_lstm2d_5[0][0]']          
                                256)                                                              
                                                                                                  
 conv_lstm2d_7 (ConvLSTM2D)     (None, None, 4, 4,   14157824    ['conv_lstm2d_6[0][0]']          
                                512)                                                              
                                                                                                  
 tf.reshape_4 (TFOpLambda)      (None, 4, 4, 512)    0           ['conv_lstm2d_7[0][0]']          
                                                                                                  
 conv2d_transpose (Conv2DTransp  (None, 4, 4, 512)   2359808     ['tf.reshape_4[0][0]']           
 ose)                                                                                             
                                                                                                  
 concatenate (Concatenate)      (None, 4, 4, 1024)   0           ['conv2d_transpose[0][0]',       
                                                                  'tf.reshape_4[0][0]']           
                                                                                                  
 conv2d (Conv2D)                (None, 4, 4, 512)    4719104     ['concatenate[0][0]']            
                                                                                                  
 conv2d_transpose_1 (Conv2DTran  (None, 8, 8, 256)   1179904     ['conv2d[0][0]']                 
 spose)                                                                                           
                                                                                                  
 conv2d_transpose_2 (Conv2DTran  (None, 8, 8, 256)   590080      ['conv2d_transpose_1[0][0]']     
 spose)                                                                                           
                                                                                                  
 tf.reshape_3 (TFOpLambda)      (None, 8, 8, 256)    0           ['conv_lstm2d_5[0][0]']          
                                                                                                  
 concatenate_1 (Concatenate)    (None, 8, 8, 512)    0           ['conv2d_transpose_2[0][0]',     
                                                                  'tf.reshape_3[0][0]']           
                                                                                                  
 conv2d_1 (Conv2D)              (None, 8, 8, 256)    1179904     ['concatenate_1[0][0]']          
                                                                                                  
 conv2d_transpose_3 (Conv2DTran  (None, 16, 16, 128)  295040     ['conv2d_1[0][0]']               
 spose)                                                                                           
                                                                                                  
 conv2d_transpose_4 (Conv2DTran  (None, 16, 16, 128)  147584     ['conv2d_transpose_3[0][0]']     
 spose)                                                                                           
                                                                                                  
 tf.reshape_2 (TFOpLambda)      (None, 16, 16, 128)  0           ['conv_lstm2d_4[0][0]']          
                                                                                                  
 concatenate_2 (Concatenate)    (None, 16, 16, 256)  0           ['conv2d_transpose_4[0][0]',     
                                                                  'tf.reshape_2[0][0]']           
                                                                                                  
 conv2d_2 (Conv2D)              (None, 16, 16, 128)  295040      ['concatenate_2[0][0]']          
                                                                                                  
 conv2d_transpose_5 (Conv2DTran  (None, 32, 32, 64)  73792       ['conv2d_2[0][0]']               
 spose)                                                                                           
                                                                                                  
 conv2d_transpose_6 (Conv2DTran  (None, 32, 32, 64)  36928       ['conv2d_transpose_5[0][0]']     
 spose)                                                                                           
                                                                                                  
 tf.reshape_1 (TFOpLambda)      (None, 32, 32, 64)   0           ['conv_lstm2d_2[0][0]']          
                                                                                                  
 concatenate_3 (Concatenate)    (None, 32, 32, 128)  0           ['conv2d_transpose_6[0][0]',     
                                                                  'tf.reshape_1[0][0]']           
                                                                                                  
 conv2d_3 (Conv2D)              (None, 32, 32, 64)   73792       ['concatenate_3[0][0]']          
                                                                                                  
 conv2d_transpose_7 (Conv2DTran  (None, 64, 64, 32)  18464       ['conv2d_3[0][0]']               
 spose)                                                                                           
                                                                                                  
 conv2d_transpose_8 (Conv2DTran  (None, 64, 64, 32)  9248        ['conv2d_transpose_7[0][0]']     
 spose)                                                                                           
                                                                                                  
 tf.reshape (TFOpLambda)        (None, 64, 64, 32)   0           ['conv_lstm2d[0][0]']            
                                                                                                  
 concatenate_4 (Concatenate)    (None, 64, 64, 64)   0           ['conv2d_transpose_8[0][0]',     
                                                                  'tf.reshape[0][0]']             
                                                                                                  
 conv2d_4 (Conv2D)              (None, 64, 64, 32)   18464       ['concatenate_4[0][0]']          
                                                                                                  
 conv2d_5 (Conv2D)              (None, 64, 64, 1)    33          ['conv2d_4[0][0]']               
                                                                                                  
 reshape_layer (ReshapeLayer)   (5, 19, 64, 64, 1)   0           ['conv2d_5[0][0]']               
                                                                                                  
==================================================================================================
Total params: 37,121,217
Trainable params: 37,121,217
Non-trainable params: 0
__________________________________________________________________________________________________
Model: "model"
__________________________________________________________________________________________________
 Layer (type)                   Output Shape         Param #     Connected to                     
==================================================================================================
 input_1 (InputLayer)           [(None, None, 64, 6  0           []                               
                                4, 1)]                                                            
                                                                                                  
 conv_lstm2d (ConvLSTM2D)       (None, None, 64, 64  207104      ['input_1[0][0]']                
                                , 32)                                                             
                                                                                                  
 conv_lstm2d_1 (ConvLSTM2D)     (None, None, 32, 32  614656      ['conv_lstm2d[0][0]']            
                                , 64)                                                             
                                                                                                  
 conv_lstm2d_2 (ConvLSTM2D)     (None, None, 32, 32  819456      ['conv_lstm2d_1[0][0]']          
                                , 64)                                                             
                                                                                                  
 conv_lstm2d_3 (ConvLSTM2D)     (None, None, 16, 16  885248      ['conv_lstm2d_2[0][0]']          
                                , 128)                                                            
                                                                                                  
 conv_lstm2d_4 (ConvLSTM2D)     (None, None, 16, 16  1180160     ['conv_lstm2d_3[0][0]']          
                                , 128)                                                            
                                                                                                  
 conv_lstm2d_5 (ConvLSTM2D)     (None, None, 8, 8,   3539968     ['conv_lstm2d_4[0][0]']          
                                256)                                                              
                                                                                                  
 conv_lstm2d_6 (ConvLSTM2D)     (None, None, 8, 8,   4719616     ['conv_lstm2d_5[0][0]']          
                                256)                                                              
                                                                                                  
 conv_lstm2d_7 (ConvLSTM2D)     (None, None, 4, 4,   14157824    ['conv_lstm2d_6[0][0]']          
                                512)                                                              
                                                                                                  
 tf.reshape_4 (TFOpLambda)      (None, 4, 4, 512)    0           ['conv_lstm2d_7[0][0]']          
                                                                                                  
 conv2d_transpose (Conv2DTransp  (None, 4, 4, 512)   2359808     ['tf.reshape_4[0][0]']           
 ose)                                                                                             
                                                                                                  
 concatenate (Concatenate)      (None, 4, 4, 1024)   0           ['conv2d_transpose[0][0]',       
                                                                  'tf.reshape_4[0][0]']           
                                                                                                  
 conv2d (Conv2D)                (None, 4, 4, 512)    4719104     ['concatenate[0][0]']            
                                                                                                  
 conv2d_transpose_1 (Conv2DTran  (None, 8, 8, 256)   1179904     ['conv2d[0][0]']                 
 spose)                                                                                           
                                                                                                  
 conv2d_transpose_2 (Conv2DTran  (None, 8, 8, 256)   590080      ['conv2d_transpose_1[0][0]']     
 spose)                                                                                           
                                                                                                  
 tf.reshape_3 (TFOpLambda)      (None, 8, 8, 256)    0           ['conv_lstm2d_5[0][0]']          
                                                                                                  
 concatenate_1 (Concatenate)    (None, 8, 8, 512)    0           ['conv2d_transpose_2[0][0]',     
                                                                  'tf.reshape_3[0][0]']           
                                                                                                  
 conv2d_1 (Conv2D)              (None, 8, 8, 256)    1179904     ['concatenate_1[0][0]']          
                                                                                                  
 conv2d_transpose_3 (Conv2DTran  (None, 16, 16, 128)  295040     ['conv2d_1[0][0]']               
 spose)                                                                                           
                                                                                                  
 conv2d_transpose_4 (Conv2DTran  (None, 16, 16, 128)  147584     ['conv2d_transpose_3[0][0]']     
 spose)                                                                                           
                                                                                                  
 tf.reshape_2 (TFOpLambda)      (None, 16, 16, 128)  0           ['conv_lstm2d_4[0][0]']          
                                                                                                  
 concatenate_2 (Concatenate)    (None, 16, 16, 256)  0           ['conv2d_transpose_4[0][0]',     
                                                                  'tf.reshape_2[0][0]']           
                                                                                                  
 conv2d_2 (Conv2D)              (None, 16, 16, 128)  295040      ['concatenate_2[0][0]']          
                                                                                                  
 conv2d_transpose_5 (Conv2DTran  (None, 32, 32, 64)  73792       ['conv2d_2[0][0]']               
 spose)                                                                                           
                                                                                                  
 conv2d_transpose_6 (Conv2DTran  (None, 32, 32, 64)  36928       ['conv2d_transpose_5[0][0]']     
 spose)                                                                                           
                                                                                                  
 tf.reshape_1 (TFOpLambda)      (None, 32, 32, 64)   0           ['conv_lstm2d_2[0][0]']          
                                                                                                  
 concatenate_3 (Concatenate)    (None, 32, 32, 128)  0           ['conv2d_transpose_6[0][0]',     
                                                                  'tf.reshape_1[0][0]']           
                                                                                                  
 conv2d_3 (Conv2D)              (None, 32, 32, 64)   73792       ['concatenate_3[0][0]']          
                                                                                                  
 conv2d_transpose_7 (Conv2DTran  (None, 64, 64, 32)  18464       ['conv2d_3[0][0]']               
 spose)                                                                                           
                                                                                                  
 conv2d_transpose_8 (Conv2DTran  (None, 64, 64, 32)  9248        ['conv2d_transpose_7[0][0]']     
 spose)                                                                                           
                                                                                                  
 tf.reshape (TFOpLambda)        (None, 64, 64, 32)   0           ['conv_lstm2d[0][0]']            
                                                                                                  
 concatenate_4 (Concatenate)    (None, 64, 64, 64)   0           ['conv2d_transpose_8[0][0]',     
                                                                  'tf.reshape[0][0]']             
                                                                                                  
 conv2d_4 (Conv2D)              (None, 64, 64, 32)   18464       ['concatenate_4[0][0]']          
                                                                                                  
 conv2d_5 (Conv2D)              (None, 64, 64, 1)    33          ['conv2d_4[0][0]']               
                                                                                                  
 reshape_layer (ReshapeLayer)   (5, 19, 64, 64, 1)   0           ['conv2d_5[0][0]']               
                                                                                                  
==================================================================================================
Total params: 37,121,217
Trainable params: 37,121,217
Non-trainable params: 0
__________________________________________________________________________________________________
Epoch 1/20
output: (5, 19, 64, 64, 1)
target: (5, 19, 64, 64, 1)
output: (5, 19, 64, 64, 1)
target: (5, 19, 64, 64, 1)
180/180 [==============================] - 2786s 15s/step - loss: -3962.9307
Epoch 2/20
180/180 [==============================] - 2839s 16s/step - loss: -3986.7339
Epoch 3/20
180/180 [==============================] - 2851s 16s/step - loss: -3986.7439
Epoch 4/20
180/180 [==============================] - 2847s 16s/step - loss: -3986.7639
Epoch 5/20
180/180 [==============================] - 2777s 15s/step - loss: -3986.7273
Epoch 6/20
180/180 [==============================] - 2732s 15s/step - loss: -3986.7322
Epoch 7/20
180/180 [==============================] - 2780s 15s/step - loss: -3986.7424
Epoch 8/20
180/180 [==============================] - 2742s 15s/step - loss: -3986.7498
Epoch 9/20
180/180 [==============================] - 2734s 15s/step - loss: -3986.7371
Epoch 10/20
180/180 [==============================] - 2719s 15s/step - loss: -3986.7271
Epoch 11/20
180/180 [==============================] - 2719s 15s/step - loss: -3986.7432
Epoch 12/20
180/180 [==============================] - 2698s 15s/step - loss: -3986.7366
Epoch 13/20
180/180 [==============================] - 2683s 15s/step - loss: -3986.7415
Epoch 14/20
180/180 [==============================] - 2670s 15s/step - loss: -3986.7478
Epoch 15/20
180/180 [==============================] - 2661s 15s/step - loss: -3986.7314
Epoch 16/20
180/180 [==============================] - 2670s 15s/step - loss: -3986.7319
Epoch 17/20
180/180 [==============================] - 2684s 15s/step - loss: -3986.7485
Epoch 18/20
180/180 [==============================] - 2669s 15s/step - loss: -3986.7488
Epoch 19/20
180/180 [==============================] - 2669s 15s/step - loss: -3986.7468
Epoch 20/20
180/180 [==============================] - 2662s 15s/step - loss: -3986.7380
