{
 "cells": [
  {
   "cell_type": "code",
   "execution_count": null,
   "metadata": {},
   "outputs": [],
   "source": [
    "class DataGenerator(tf.keras.utils.Sequence):\n",
    "    def __init__(self, data, batch_size=6, dim=(768, 1024), n_channels=3):\n",
    "        \"\"\"\n",
    "        Initialization\n",
    "        \"\"\"\n",
    "        self.data = data\n",
    "        self.indices = self.data.index.tolist()\n",
    "        self.dim = dim\n",
    "        self.n_channels = n_channels\n",
    "        self.batch_size = batch_size\n",
    "        self.min_depth = 0.1\n",
    "        self.on_epoch_end()\n",
    "\n",
    "    def __len__(self):\n",
    "        return int(np.ceil(len(self.data) / self.batch_size))\n",
    "\n",
    "    def __getitem__(self, index):\n",
    "        if (index + 1) * self.batch_size > len(self.indices):\n",
    "            self.batch_size = len(self.indices) - index * self.batch_size\n",
    "        # Generate one batch of data\n",
    "        # Generate indices of the batch\n",
    "        index = self.indices[index * self.batch_size : (index + 1) * self.batch_size]\n",
    "        # Find list of IDs\n",
    "        batch = [self.indices[k] for k in index]\n",
    "        x, y = self.data_generation(batch)\n",
    "\n",
    "        return x, y\n",
    "\n",
    "    def on_epoch_end(self):\n",
    "\n",
    "        \"\"\"\n",
    "        Updates indexes after each epoch\n",
    "        \"\"\"\n",
    "        self.index = np.arange(len(self.indices))\n",
    "        if self.shuffle == True:\n",
    "            np.random.shuffle(self.index)\n",
    "\n",
    "    def load(self, image_path, depth_map, mask):\n",
    "        \"\"\"Load input and target image.\"\"\"\n",
    "\n",
    "        image_ = cv2.imread(image_path)\n",
    "        image_ = cv2.cvtColor(image_, cv2.COLOR_BGR2RGB)\n",
    "        image_ = cv2.resize(image_, self.dim)\n",
    "        image_ = tf.image.convert_image_dtype(image_, tf.float32)\n",
    "\n",
    "        depth_map = np.load(depth_map).squeeze()\n",
    "\n",
    "        mask = np.load(mask)\n",
    "        mask = mask > 0\n",
    "\n",
    "        max_depth = min(300, np.percentile(depth_map, 99))\n",
    "        depth_map = np.clip(depth_map, self.min_depth, max_depth)\n",
    "        depth_map = np.log(depth_map, where=mask)\n",
    "\n",
    "        depth_map = np.ma.masked_where(~mask, depth_map)\n",
    "\n",
    "        depth_map = np.clip(depth_map, 0.1, np.log(max_depth))\n",
    "        depth_map = cv2.resize(depth_map, self.dim)\n",
    "        depth_map = np.expand_dims(depth_map, axis=2)\n",
    "        depth_map = tf.image.convert_image_dtype(depth_map, tf.float32)\n",
    "\n",
    "        return image_, depth_map\n",
    "\n",
    "    def data_generation(self, batch):\n",
    "\n",
    "        x = np.empty((self.batch_size, *self.dim, self.n_channels))\n",
    "        y = np.empty((self.batch_size, *self.dim, 1))\n",
    "\n",
    "        for i, batch_id in enumerate(batch):\n",
    "            x[i,], y[i,] = self.load(\n",
    "                self.data[\"image\"][batch_id],\n",
    "                self.data[\"depth\"][batch_id],\n",
    "                self.data[\"mask\"][batch_id],\n",
    "            )\n",
    "\n",
    "        return x, y"
   ]
  },
  {
   "cell_type": "code",
   "execution_count": null,
   "metadata": {},
   "outputs": [],
   "source": [
    "def visualize_depth_map(samples, test=False, model=None):\n",
    "    input, target = samples\n",
    "    cmap = plt.cm.jet\n",
    "    cmap.set_bad(color=\"black\")\n",
    "\n",
    "    if test:\n",
    "        pred = model.predict(input)\n",
    "        fig, ax = plt.subplots(6, 3, figsize=(50, 50))\n",
    "        for i in range(6):\n",
    "            ax[i, 0].imshow((input[i].squeeze()))\n",
    "            ax[i, 1].imshow((target[i].squeeze()), cmap=cmap)\n",
    "            ax[i, 2].imshow((pred[i].squeeze()), cmap=cmap)\n",
    "\n",
    "    else:\n",
    "        fig, ax = plt.subplots(6, 2, figsize=(50, 50))\n",
    "        for i in range(6):\n",
    "            ax[i, 0].imshow((input[i].squeeze()))\n",
    "            ax[i, 1].imshow((target[i].squeeze()), cmap=cmap)\n",
    "\n",
    "\n",
    "visualize_samples = next(\n",
    "    iter(DataGenerator(data=df, batch_size=6, dim=(HEIGHT, WIDTH)))\n",
    ")\n",
    "visualize_depth_map(visualize_samples)"
   ]
  },
  {
   "cell_type": "markdown",
   "metadata": {},
   "source": [
    "another"
   ]
  },
  {
   "cell_type": "code",
   "execution_count": null,
   "metadata": {},
   "outputs": [],
   "source": [
    "class depthdataset(Dataset):\n",
    "\n",
    "    def __init__(self, image_dir, gtruth_dir, transform= None):\n",
    "        self.image_dir = image_dir\n",
    "        self.gtruth_dir = gtruth_dir\n",
    "        self.transform = transform\n",
    "        self.images = os.listdir(image_dir)\n",
    "\n",
    "    def __len__(self):\n",
    "        return len(self.images)\n",
    "\n",
    "    def __getitem__(self,index):\n",
    "\n",
    "        img_path = os.path.join(self.image_dir,self.image[index])\n",
    "\n",
    "        gt_path = os.path.join(self.gtruth_dir,self.image[index])\n",
    "\n",
    "        return {'input': image, 'output': depth}"
   ]
  },
  {
   "cell_type": "code",
   "execution_count": null,
   "metadata": {},
   "outputs": [],
   "source": [
    "for sample in dataloader:\n",
    "    input =  sample['input']\n",
    "    output = sample['output']\n",
    "    output_pred = model(inout)\n",
    "    #imran380/depth-map-prediction"
   ]
  },
  {
   "cell_type": "code",
   "execution_count": null,
   "metadata": {},
   "outputs": [],
   "source": [
    "keras.utils.image_dataset_from_directory(image_dir, batch_size=10, image_size=(256, 256), Shuffle= False)"
   ]
  }
 ],
 "metadata": {
  "kernelspec": {
   "display_name": "Python 3.10.5 64-bit ('3.10.5')",
   "language": "python",
   "name": "python3"
  },
  "language_info": {
   "name": "python",
   "version": "3.10.5"
  },
  "orig_nbformat": 4,
  "vscode": {
   "interpreter": {
    "hash": "1a9dea948ae73b58193592b51458ad197351d0ffb642d250e04dd73824aacd7c"
   }
  }
 },
 "nbformat": 4,
 "nbformat_minor": 2
}
