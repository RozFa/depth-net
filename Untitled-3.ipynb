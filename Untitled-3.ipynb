{
 "cells": [
  {
   "cell_type": "markdown",
   "metadata": {},
   "source": []
  },
  {
   "cell_type": "code",
   "execution_count": 7,
   "metadata": {},
   "outputs": [],
   "source": [
    "from tensorflow.keras.activations import  relu, hard_sigmoid\n",
    "from tensorflow.keras.layers import  Conv2D, ConvLSTM2D, Conv2DTranspose\n",
    "from tensorflow.keras.layers.no import BatchNormalization\n"
   ]
  },
  {
   "cell_type": "code",
   "execution_count": 1,
   "metadata": {},
   "outputs": [
    {
     "name": "stderr",
     "output_type": "stream",
     "text": [
      "/home/roz/anaconda3/envs/NN/lib/python3.10/site-packages/scipy/__init__.py:146: UserWarning: A NumPy version >=1.16.5 and <1.23.0 is required for this version of SciPy (detected version 1.23.1\n",
      "  warnings.warn(f\"A NumPy version >={np_minversion} and <{np_maxversion}\"\n"
     ]
    },
    {
     "ename": "NameError",
     "evalue": "name 'input_' is not defined",
     "output_type": "error",
     "traceback": [
      "\u001b[0;31m---------------------------------------------------------------------------\u001b[0m",
      "\u001b[0;31mNameError\u001b[0m                                 Traceback (most recent call last)",
      "\u001b[1;32m/home/roz/workspace/depth net/Untitled-3.ipynb Cell 3\u001b[0m in \u001b[0;36m<cell line: 8>\u001b[0;34m()\u001b[0m\n\u001b[1;32m      <a href='vscode-notebook-cell:/home/roz/workspace/depth%20net/Untitled-3.ipynb#ch0000002?line=4'>5</a>\u001b[0m \u001b[39mfrom\u001b[39;00m \u001b[39mkeras\u001b[39;00m\u001b[39m.\u001b[39;00m\u001b[39mlayers\u001b[39;00m\u001b[39m.\u001b[39;00m\u001b[39mnormalization\u001b[39;00m\u001b[39m.\u001b[39;00m\u001b[39mbatch_normalization_v1\u001b[39;00m \u001b[39mimport\u001b[39;00m batch_normalization\n\u001b[1;32m      <a href='vscode-notebook-cell:/home/roz/workspace/depth%20net/Untitled-3.ipynb#ch0000002?line=5'>6</a>\u001b[0m \u001b[39m#encoder\u001b[39;00m\n\u001b[1;32m      <a href='vscode-notebook-cell:/home/roz/workspace/depth%20net/Untitled-3.ipynb#ch0000002?line=6'>7</a>\u001b[0m \u001b[39m#convolutional- lstm layers\u001b[39;00m\n\u001b[0;32m----> <a href='vscode-notebook-cell:/home/roz/workspace/depth%20net/Untitled-3.ipynb#ch0000002?line=7'>8</a>\u001b[0m cnvlstm1\u001b[39m=\u001b[39m ConvLSTM2D(\u001b[39m32\u001b[39m, kernel_size\u001b[39m=\u001b[39m(\u001b[39m7\u001b[39m,\u001b[39m7\u001b[39m), strides\u001b[39m=\u001b[39m\u001b[39m1\u001b[39m, padding\u001b[39m=\u001b[39m \u001b[39m'\u001b[39m\u001b[39msame\u001b[39m\u001b[39m'\u001b[39m,  activation\u001b[39m=\u001b[39m relu,recurrent_activation\u001b[39m=\u001b[39mhard_sigmoid)(input_)\n\u001b[1;32m      <a href='vscode-notebook-cell:/home/roz/workspace/depth%20net/Untitled-3.ipynb#ch0000002?line=8'>9</a>\u001b[0m nm1\u001b[39m=\u001b[39mbatch_normalization(cnvlstm1)\n\u001b[1;32m     <a href='vscode-notebook-cell:/home/roz/workspace/depth%20net/Untitled-3.ipynb#ch0000002?line=9'>10</a>\u001b[0m cnvlstm2\u001b[39m=\u001b[39m ConvLSTM2D(\u001b[39m64\u001b[39m, kernel_size\u001b[39m=\u001b[39m(\u001b[39m5\u001b[39m,\u001b[39m5\u001b[39m), strides\u001b[39m=\u001b[39m\u001b[39m2\u001b[39m, padding\u001b[39m=\u001b[39m \u001b[39m'\u001b[39m\u001b[39msame\u001b[39m\u001b[39m'\u001b[39m,  activation\u001b[39m=\u001b[39m relu,recurrent_activation\u001b[39m=\u001b[39mhard_sigmoid)(nm1)\n",
      "\u001b[0;31mNameError\u001b[0m: name 'input_' is not defined"
     ]
    }
   ],
   "source": [
    "\n",
    "# from keras.activations import hard_sigmoid, relu\n",
    "# from keras.layers import Conv2D\n",
    "# from keras.layers.convolutional import Conv2DTranspose\n",
    "# from keras.layers import ConvLSTM2D\n",
    "# from keras.layers.normalization.batch_normalization_v1 import batch_normalization\n",
    "#encoder\n",
    "#convolutional- lstm layers\n",
    "\n",
    "\n",
    "\n",
    "cnvlstm1= ConvLSTM2D(32, kernel_size=(7,7), strides=1, padding= 'same',  activation= relu,recurrent_activation=hard_sigmoid)(input_)\n",
    "nm1=batch_normalization(cnvlstm1)\n",
    "cnvlstm2= ConvLSTM2D(64, kernel_size=(5,5), strides=2, padding= 'same',  activation= relu,recurrent_activation=hard_sigmoid)(nm1)\n",
    "cnvlstm3= ConvLSTM2D(64, kernel_size=(5,5), strides=1, padding= 'same',  activation= relu,recurrent_activation=hard_sigmoid)(cnvlstm2)\n",
    "nm2=batch_normalization(cnvlstm3)\n",
    "cnvlstm4= ConvLSTM2D(128, kernel_size=(3,3), strides=2, padding= 'same',  activation= relu,recurrent_activation=hard_sigmoid)(nm2)\n",
    "cnvlstm5= ConvLSTM2D(128, kernel_size=(3,3), strides=1, padding= 'same',  activation= relu,recurrent_activation=hard_sigmoid)(cnvlstm4)\n",
    "nm3=batch_normalization(cnvlstm5)\n",
    "cnvlstm6= ConvLSTM2D(256, kernel_size=(3,3), strides=2, padding= 'same',  activation= relu,recurrent_activation=hard_sigmoid)(nm3)\n",
    "cnvlstm7= ConvLSTM2D(256, kernel_size=(3,3), strides=1, padding= 'same',  activation= relu,recurrent_activation=hard_sigmoid)(cnvlstm6)\n",
    "nm4=batch_normalization(cnvlstm7)\n",
    "cnvlstm8= ConvLSTM2D(512, kernel_size=(3,3), strides=2, padding= 'same',  activation= relu,recurrent_activation=hard_sigmoid)(nm4)\n",
    "nm5=batch_normalization(cnvlstm8)\n",
    "#decoder \n",
    "dec1= Conv2DTranspose(512, kernel_size=(3,3), stride= 1, padding= 'same', activation= relu )(nm5)\n",
    "conc1= Conv2D (512, kernel_size=(3,3), stride= 2, padding= 'same', activation= relu )"
   ]
  }
 ],
 "metadata": {
  "kernelspec": {
   "display_name": "Python 3.10.4 ('NN')",
   "language": "python",
   "name": "python3"
  },
  "language_info": {
   "codemirror_mode": {
    "name": "ipython",
    "version": 3
   },
   "file_extension": ".py",
   "mimetype": "text/x-python",
   "name": "python",
   "nbconvert_exporter": "python",
   "pygments_lexer": "ipython3",
   "version": "3.10.4"
  },
  "orig_nbformat": 4,
  "vscode": {
   "interpreter": {
    "hash": "626344daed0c42ae3048c35ad473a8619c79350fee44a24f4afbbc60690f3c8b"
   }
  }
 },
 "nbformat": 4,
 "nbformat_minor": 2
}
